{
 "cells": [
  {
   "cell_type": "code",
   "execution_count": 36,
   "metadata": {},
   "outputs": [],
   "source": [
    "import pandas as pd\n",
    "from scipy import stats\n",
    "import matplotlib.pyplot as plt\n",
    "import seaborn as sns"
   ]
  },
  {
   "cell_type": "code",
   "execution_count": 37,
   "metadata": {},
   "outputs": [],
   "source": [
    "data = pd.read_csv(\"assessment_da25.csv\")"
   ]
  },
  {
   "cell_type": "code",
   "execution_count": 38,
   "metadata": {},
   "outputs": [
    {
     "data": {
      "text/html": [
       "<div>\n",
       "<style scoped>\n",
       "    .dataframe tbody tr th:only-of-type {\n",
       "        vertical-align: middle;\n",
       "    }\n",
       "\n",
       "    .dataframe tbody tr th {\n",
       "        vertical-align: top;\n",
       "    }\n",
       "\n",
       "    .dataframe thead th {\n",
       "        text-align: right;\n",
       "    }\n",
       "</style>\n",
       "<table border=\"1\" class=\"dataframe\">\n",
       "  <thead>\n",
       "    <tr style=\"text-align: right;\">\n",
       "      <th></th>\n",
       "      <th>Variant</th>\n",
       "      <th>Number of page views</th>\n",
       "      <th>GMV (in $)</th>\n",
       "      <th>Number of add to cart</th>\n",
       "      <th>Clicks on media</th>\n",
       "      <th>Time on Page (sec)</th>\n",
       "      <th>user_id</th>\n",
       "    </tr>\n",
       "  </thead>\n",
       "  <tbody>\n",
       "    <tr>\n",
       "      <th>0</th>\n",
       "      <td>A</td>\n",
       "      <td>5</td>\n",
       "      <td>0.0</td>\n",
       "      <td>0</td>\n",
       "      <td>2</td>\n",
       "      <td>74</td>\n",
       "      <td>0</td>\n",
       "    </tr>\n",
       "    <tr>\n",
       "      <th>1</th>\n",
       "      <td>A</td>\n",
       "      <td>4</td>\n",
       "      <td>0.0</td>\n",
       "      <td>4</td>\n",
       "      <td>1</td>\n",
       "      <td>21</td>\n",
       "      <td>1</td>\n",
       "    </tr>\n",
       "    <tr>\n",
       "      <th>2</th>\n",
       "      <td>A</td>\n",
       "      <td>4</td>\n",
       "      <td>0.0</td>\n",
       "      <td>2</td>\n",
       "      <td>0</td>\n",
       "      <td>1</td>\n",
       "      <td>2</td>\n",
       "    </tr>\n",
       "    <tr>\n",
       "      <th>3</th>\n",
       "      <td>A</td>\n",
       "      <td>5</td>\n",
       "      <td>0.0</td>\n",
       "      <td>0</td>\n",
       "      <td>1</td>\n",
       "      <td>26</td>\n",
       "      <td>3</td>\n",
       "    </tr>\n",
       "    <tr>\n",
       "      <th>4</th>\n",
       "      <td>A</td>\n",
       "      <td>5</td>\n",
       "      <td>0.0</td>\n",
       "      <td>3</td>\n",
       "      <td>3</td>\n",
       "      <td>46</td>\n",
       "      <td>4</td>\n",
       "    </tr>\n",
       "  </tbody>\n",
       "</table>\n",
       "</div>"
      ],
      "text/plain": [
       "  Variant  Number of page views  GMV (in $)  Number of add to cart  \\\n",
       "0       A                     5         0.0                      0   \n",
       "1       A                     4         0.0                      4   \n",
       "2       A                     4         0.0                      2   \n",
       "3       A                     5         0.0                      0   \n",
       "4       A                     5         0.0                      3   \n",
       "\n",
       "   Clicks on media  Time on Page (sec)  user_id  \n",
       "0                2                  74        0  \n",
       "1                1                  21        1  \n",
       "2                0                   1        2  \n",
       "3                1                  26        3  \n",
       "4                3                  46        4  "
      ]
     },
     "execution_count": 38,
     "metadata": {},
     "output_type": "execute_result"
    }
   ],
   "source": [
    "data.head()"
   ]
  },
  {
   "cell_type": "markdown",
   "metadata": {},
   "source": [
    "Next, I add new columns for the defined metrics:"
   ]
  },
  {
   "cell_type": "code",
   "execution_count": 39,
   "metadata": {},
   "outputs": [],
   "source": [
    "data[\"CTR\"] = data[\"Clicks on media\"] / data[\"Number of page views\"]\n"
   ]
  },
  {
   "cell_type": "code",
   "execution_count": 40,
   "metadata": {},
   "outputs": [],
   "source": [
    "data[\"Conversion rate\"] = data[\"Number of add to cart\"] / data[\"Number of page views\"]\n"
   ]
  },
  {
   "cell_type": "code",
   "execution_count": 41,
   "metadata": {},
   "outputs": [
    {
     "data": {
      "text/html": [
       "<div>\n",
       "<style scoped>\n",
       "    .dataframe tbody tr th:only-of-type {\n",
       "        vertical-align: middle;\n",
       "    }\n",
       "\n",
       "    .dataframe tbody tr th {\n",
       "        vertical-align: top;\n",
       "    }\n",
       "\n",
       "    .dataframe thead tr th {\n",
       "        text-align: left;\n",
       "    }\n",
       "\n",
       "    .dataframe thead tr:last-of-type th {\n",
       "        text-align: right;\n",
       "    }\n",
       "</style>\n",
       "<table border=\"1\" class=\"dataframe\">\n",
       "  <thead>\n",
       "    <tr>\n",
       "      <th></th>\n",
       "      <th colspan=\"8\" halign=\"left\">Time on Page (sec)</th>\n",
       "      <th colspan=\"5\" halign=\"left\">CTR</th>\n",
       "      <th colspan=\"8\" halign=\"left\">Conversion rate</th>\n",
       "    </tr>\n",
       "    <tr>\n",
       "      <th></th>\n",
       "      <th>count</th>\n",
       "      <th>mean</th>\n",
       "      <th>std</th>\n",
       "      <th>min</th>\n",
       "      <th>25%</th>\n",
       "      <th>50%</th>\n",
       "      <th>75%</th>\n",
       "      <th>max</th>\n",
       "      <th>count</th>\n",
       "      <th>mean</th>\n",
       "      <th>...</th>\n",
       "      <th>75%</th>\n",
       "      <th>max</th>\n",
       "      <th>count</th>\n",
       "      <th>mean</th>\n",
       "      <th>std</th>\n",
       "      <th>min</th>\n",
       "      <th>25%</th>\n",
       "      <th>50%</th>\n",
       "      <th>75%</th>\n",
       "      <th>max</th>\n",
       "    </tr>\n",
       "    <tr>\n",
       "      <th>Variant</th>\n",
       "      <th></th>\n",
       "      <th></th>\n",
       "      <th></th>\n",
       "      <th></th>\n",
       "      <th></th>\n",
       "      <th></th>\n",
       "      <th></th>\n",
       "      <th></th>\n",
       "      <th></th>\n",
       "      <th></th>\n",
       "      <th></th>\n",
       "      <th></th>\n",
       "      <th></th>\n",
       "      <th></th>\n",
       "      <th></th>\n",
       "      <th></th>\n",
       "      <th></th>\n",
       "      <th></th>\n",
       "      <th></th>\n",
       "      <th></th>\n",
       "      <th></th>\n",
       "    </tr>\n",
       "  </thead>\n",
       "  <tbody>\n",
       "    <tr>\n",
       "      <th>A</th>\n",
       "      <td>1000.0</td>\n",
       "      <td>20.543</td>\n",
       "      <td>20.596076</td>\n",
       "      <td>1.0</td>\n",
       "      <td>6.0</td>\n",
       "      <td>13.0</td>\n",
       "      <td>29.0</td>\n",
       "      <td>143.0</td>\n",
       "      <td>995.0</td>\n",
       "      <td>0.301462</td>\n",
       "      <td>...</td>\n",
       "      <td>0.444444</td>\n",
       "      <td>1.0</td>\n",
       "      <td>995.0</td>\n",
       "      <td>0.506522</td>\n",
       "      <td>0.555527</td>\n",
       "      <td>0.0</td>\n",
       "      <td>0.166667</td>\n",
       "      <td>0.333333</td>\n",
       "      <td>0.666667</td>\n",
       "      <td>4.0</td>\n",
       "    </tr>\n",
       "    <tr>\n",
       "      <th>B</th>\n",
       "      <td>1000.0</td>\n",
       "      <td>20.047</td>\n",
       "      <td>19.319784</td>\n",
       "      <td>1.0</td>\n",
       "      <td>7.0</td>\n",
       "      <td>14.0</td>\n",
       "      <td>28.0</td>\n",
       "      <td>132.0</td>\n",
       "      <td>993.0</td>\n",
       "      <td>0.247124</td>\n",
       "      <td>...</td>\n",
       "      <td>0.333333</td>\n",
       "      <td>1.0</td>\n",
       "      <td>993.0</td>\n",
       "      <td>0.581260</td>\n",
       "      <td>0.551898</td>\n",
       "      <td>0.0</td>\n",
       "      <td>0.250000</td>\n",
       "      <td>0.500000</td>\n",
       "      <td>0.750000</td>\n",
       "      <td>5.0</td>\n",
       "    </tr>\n",
       "  </tbody>\n",
       "</table>\n",
       "<p>2 rows × 24 columns</p>\n",
       "</div>"
      ],
      "text/plain": [
       "        Time on Page (sec)                                                  \\\n",
       "                     count    mean        std  min  25%   50%   75%    max   \n",
       "Variant                                                                      \n",
       "A                   1000.0  20.543  20.596076  1.0  6.0  13.0  29.0  143.0   \n",
       "B                   1000.0  20.047  19.319784  1.0  7.0  14.0  28.0  132.0   \n",
       "\n",
       "           CTR            ...                Conversion rate            \\\n",
       "         count      mean  ...       75%  max           count      mean   \n",
       "Variant                   ...                                            \n",
       "A        995.0  0.301462  ...  0.444444  1.0           995.0  0.506522   \n",
       "B        993.0  0.247124  ...  0.333333  1.0           993.0  0.581260   \n",
       "\n",
       "                                                           \n",
       "              std  min       25%       50%       75%  max  \n",
       "Variant                                                    \n",
       "A        0.555527  0.0  0.166667  0.333333  0.666667  4.0  \n",
       "B        0.551898  0.0  0.250000  0.500000  0.750000  5.0  \n",
       "\n",
       "[2 rows x 24 columns]"
      ]
     },
     "execution_count": 41,
     "metadata": {},
     "output_type": "execute_result"
    }
   ],
   "source": [
    "data.groupby('Variant')[['Time on Page (sec)', 'CTR', 'Conversion rate']].describe()\n"
   ]
  },
  {
   "cell_type": "markdown",
   "metadata": {},
   "source": [
    "I need to filter data for each variant."
   ]
  },
  {
   "cell_type": "code",
   "execution_count": 42,
   "metadata": {},
   "outputs": [],
   "source": [
    "variant_a = data[data[\"Variant\"] == \"A\"]\n",
    "variant_b = data[data[\"Variant\"] == \"B\"]\n"
   ]
  },
  {
   "cell_type": "markdown",
   "metadata": {},
   "source": [
    "Let's visualise CTR!"
   ]
  },
  {
   "cell_type": "code",
   "execution_count": 45,
   "metadata": {},
   "outputs": [
    {
     "data": {
      "image/png": "[encoded data removed]",
      "text/plain": [
       "<Figure size 640x480 with 1 Axes>"
      ]
     },
     "metadata": {},
     "output_type": "display_data"
    }
   ],
   "source": [
    "plt.hist(variant_a[\"CTR\"], label=\"Variant A\")\n",
    "plt.hist(variant_b[\"CTR\"], label=\"Variant B\")\n",
    "plt.legend()\n",
    "plt.xlabel(\"Click-Through Rate (CTR)\")\n",
    "plt.ylabel(\"Frequency\")\n",
    "plt.title(\"Distribution of CTR by Variant\")\n",
    "plt.show()"
   ]
  },
  {
   "cell_type": "markdown",
   "metadata": {},
   "source": [
    "I use Levene's test for homogeneity of variances to determine the appropriate t-test."
   ]
  },
  {
   "cell_type": "code",
   "execution_count": 46,
   "metadata": {},
   "outputs": [
    {
     "name": "stdout",
     "output_type": "stream",
     "text": [
      "Equal variances assumed. Using ttest_ind.\n"
     ]
    }
   ],
   "source": [
    "levene_statistic, p_value_levene = stats.levene(variant_a[\"CTR\"], variant_b[\"CTR\"])\n",
    "\n",
    "if p_value_levene < 0.05:\n",
    "    print(\"Unequal variances detected. Using Welch's t-test.\")\n",
    "else:\n",
    "    print(\"Equal variances assumed. Using ttest_ind.\")\n"
   ]
  },
  {
   "cell_type": "markdown",
   "metadata": {},
   "source": [
    "Independent t-test is apt. Let's take care of divide by zeros..."
   ]
  },
  {
   "cell_type": "code",
   "execution_count": 47,
   "metadata": {},
   "outputs": [],
   "source": [
    "variant_a_filtered = variant_a[variant_a[\"Number of page views\"] > 0]\n",
    "variant_b_filtered = variant_b[variant_b[\"Number of page views\"] > 0]\n",
    "\n",
    "variant_a_filtered.loc[:, \"CTR\"] = variant_a_filtered[\"Clicks on media\"] / variant_a_filtered[\"Number of page views\"]\n",
    "variant_b_filtered.loc[:, \"CTR\"] = variant_b_filtered[\"Clicks on media\"] / variant_b_filtered[\"Number of page views\"]"
   ]
  },
  {
   "cell_type": "markdown",
   "metadata": {},
   "source": [
    "time for t-test!"
   ]
  },
  {
   "cell_type": "code",
   "execution_count": 48,
   "metadata": {},
   "outputs": [
    {
     "name": "stdout",
     "output_type": "stream",
     "text": [
      "t-statistic: 5.377228087459435\n",
      "p-value: 8.455180218008184e-08\n",
      "Reject null hypothesis. Statistically significant difference in CTR between variants.\n"
     ]
    }
   ],
   "source": [
    "t_statistic, p_value = stats.ttest_ind(variant_a_filtered[\"CTR\"], variant_b_filtered[\"CTR\"], equal_var=True)\n",
    "\n",
    "print(f\"t-statistic: {t_statistic}\")\n",
    "print(f\"p-value: {p_value}\")\n",
    "\n",
    "if p_value < 0.05:\n",
    "    print(\"Reject null hypothesis. Statistically significant difference in CTR between variants.\")\n",
    "else:\n",
    "    print(\"Fail to reject null hypothesis. No statistically significant difference in CTR.\")\n"
   ]
  },
  {
   "cell_type": "code",
   "execution_count": 72,
   "metadata": {},
   "outputs": [
    {
     "data": {
      "image/png": "[encoded data removed]",
      "text/plain": [
       "<Figure size 640x480 with 1 Axes>"
      ]
     },
     "metadata": {},
     "output_type": "display_data"
    }
   ],
   "source": [
    "#means\n",
    "mean_ctr_a = variant_a_filtered['CTR'].mean()\n",
    "mean_ctr_b = variant_b_filtered['CTR'].mean()\n",
    "\n",
    "#standard deviations\n",
    "std_dev_a = variant_a_filtered['CTR'].std()\n",
    "std_dev_b = variant_b_filtered['CTR'].std()\n",
    "\n",
    "# % changes\n",
    "percentage_change = ((mean_ctr_b - mean_ctr_a) / mean_ctr_a) * 100\n",
    "\n",
    "import matplotlib.pyplot as plt\n",
    "\n",
    "#plot\n",
    "variants = ['A', 'B']\n",
    "ctr_values = [mean_ctr_a, mean_ctr_b]\n",
    "error_values = [std_dev_a, std_dev_b]  \n",
    "fig, ax = plt.subplots()\n",
    "ax.bar(variants, ctr_values, yerr=error_values, capsize=7) \n",
    "plt.title('Mean CTR by Variant with Standard Deviation')\n",
    "\n",
    "plt.show()\n"
   ]
  },
  {
   "cell_type": "markdown",
   "metadata": {},
   "source": [
    "Great! let's now move on to the secondary metrics aka conversion rate and time on page. It's time to repeat!"
   ]
  },
  {
   "cell_type": "code",
   "execution_count": 50,
   "metadata": {},
   "outputs": [
    {
     "data": {
      "image/png": "[encoded data removed]",
      "text/plain": [
       "<Figure size 640x480 with 1 Axes>"
      ]
     },
     "metadata": {},
     "output_type": "display_data"
    }
   ],
   "source": [
    "plt.hist(variant_a[\"Conversion rate\"], label=\"Variant A\")\n",
    "plt.hist(variant_b[\"Conversion rate\"], label=\"Variant B\")\n",
    "plt.legend()\n",
    "plt.xlabel(\"Conversion rate\")\n",
    "plt.ylabel(\"Frequency\")\n",
    "plt.title(\"Distribution of Conversion rate by Variant\")\n",
    "plt.show()"
   ]
  },
  {
   "cell_type": "code",
   "execution_count": 51,
   "metadata": {},
   "outputs": [
    {
     "name": "stdout",
     "output_type": "stream",
     "text": [
      "Equal variances assumed. Using ttest_ind.\n"
     ]
    }
   ],
   "source": [
    "levene_statistic, p_value_levene = stats.levene(variant_a[\"Conversion rate\"], variant_b[\"Conversion rate\"])\n",
    "\n",
    "if p_value_levene < 0.05:\n",
    "    print(\"Unequal variances detected. Using Welch's t-test.\")\n",
    "else:\n",
    "    print(\"Equal variances assumed. Using ttest_ind.\")\n"
   ]
  },
  {
   "cell_type": "code",
   "execution_count": 52,
   "metadata": {},
   "outputs": [],
   "source": [
    "variant_a_filtered = variant_a[variant_a[\"Number of page views\"] > 0]\n",
    "variant_b_filtered = variant_b[variant_b[\"Number of page views\"] > 0]\n",
    "\n",
    "variant_a_filtered.loc[:, \"Conversion rate\"] = variant_a_filtered[\"Number of add to cart\"] / variant_a_filtered[\"Number of page views\"]\n",
    "variant_b_filtered.loc[:, \"Conversion rate\"] = variant_b_filtered[\"Number of add to cart\"] / variant_b_filtered[\"Number of page views\"]"
   ]
  },
  {
   "cell_type": "code",
   "execution_count": 53,
   "metadata": {},
   "outputs": [
    {
     "name": "stdout",
     "output_type": "stream",
     "text": [
      "t-statistic: 5.377228087459435\n",
      "p-value: 8.455180218008184e-08\n",
      "Reject null hypothesis. Statistically significant difference in CTR between variants.\n"
     ]
    }
   ],
   "source": [
    "t_statistic, p_value = stats.ttest_ind(variant_a_filtered[\"CTR\"], variant_b_filtered[\"CTR\"], equal_var=True)\n",
    "\n",
    "print(f\"t-statistic: {t_statistic}\")\n",
    "print(f\"p-value: {p_value}\")\n",
    "\n",
    "if p_value < 0.05:\n",
    "    print(\"Reject null hypothesis. Statistically significant difference in CTR between variants.\")\n",
    "else:\n",
    "    print(\"Fail to reject null hypothesis. No statistically significant difference in CTR.\")\n"
   ]
  },
  {
   "cell_type": "code",
   "execution_count": 71,
   "metadata": {},
   "outputs": [
    {
     "data": {
      "image/png": "[encoded data removed]",
      "text/plain": [
       "<Figure size 640x480 with 1 Axes>"
      ]
     },
     "metadata": {},
     "output_type": "display_data"
    }
   ],
   "source": [
    "#means\n",
    "mean_conversion_rate_a = variant_a_filtered['Conversion rate'].mean()\n",
    "mean_conversion_rate_b = variant_b_filtered['Conversion rate'].mean()\n",
    "\n",
    "#standard deviations\n",
    "std_dev_a = variant_a_filtered['Conversion rate'].std()\n",
    "std_dev_b = variant_b_filtered['Conversion rate'].std()\n",
    "\n",
    "# % changes\n",
    "percentage_change = ((mean_conversion_rate_b - mean_conversion_rate_a) / mean_conversion_rate_a) * 100\n",
    "import matplotlib.pyplot as plt\n",
    "\n",
    "#plot\n",
    "variants = ['A', 'B']\n",
    "conversion_rates = [mean_conversion_rate_a, mean_conversion_rate_b]\n",
    "error_values = [std_dev_a, std_dev_b]  \n",
    "fig, ax = plt.subplots()\n",
    "ax.bar(variants, conversion_rates, yerr=error_values, capsize=7) \n",
    "plt.title('Mean Conversion Rate by Variant with Standard Deviation')\n",
    "\n",
    "plt.show()"
   ]
  },
  {
   "cell_type": "markdown",
   "metadata": {},
   "source": [
    "Now we move on to the last statistic!"
   ]
  },
  {
   "cell_type": "code",
   "execution_count": 55,
   "metadata": {},
   "outputs": [
    {
     "data": {
      "image/png": "[encoded data removed]",
      "text/plain": [
       "<Figure size 640x480 with 1 Axes>"
      ]
     },
     "metadata": {},
     "output_type": "display_data"
    }
   ],
   "source": [
    "plt.hist(variant_a[\"Time on Page (sec)\"], label=\"Variant A\")\n",
    "plt.hist(variant_b[\"Time on Page (sec)\"], label=\"Variant B\")\n",
    "plt.legend()\n",
    "plt.xlabel(\"Time on Page (sec)\")\n",
    "plt.ylabel(\"Frequency\")\n",
    "plt.title(\"Distribution of time spent on page by Variant\")\n",
    "plt.show()"
   ]
  },
  {
   "cell_type": "code",
   "execution_count": 56,
   "metadata": {},
   "outputs": [
    {
     "name": "stdout",
     "output_type": "stream",
     "text": [
      "Equal variances assumed. Using ttest_ind.\n"
     ]
    }
   ],
   "source": [
    "levene_statistic, p_value_levene = stats.levene(variant_a[\"Time on Page (sec)\"], variant_b[\"Time on Page (sec)\"])\n",
    "\n",
    "if p_value_levene < 0.05:\n",
    "    print(\"Unequal variances detected. Using Welch's t-test.\")\n",
    "else:\n",
    "    print(\"Equal variances assumed. Using ttest_ind.\")"
   ]
  },
  {
   "cell_type": "code",
   "execution_count": 57,
   "metadata": {},
   "outputs": [
    {
     "name": "stdout",
     "output_type": "stream",
     "text": [
      "t-statistic: 0.41279131309731887\n",
      "p-value: 0.679804075145372\n",
      "Fail to reject null hypothesis. No statistically significant difference in CTR.\n"
     ]
    }
   ],
   "source": [
    "t_statistic, p_value = stats.ttest_ind(variant_a_filtered[\"Time on Page (sec)\"], variant_b_filtered[\"Time on Page (sec)\"], equal_var=True)\n",
    "\n",
    "print(f\"t-statistic: {t_statistic}\")\n",
    "print(f\"p-value: {p_value}\")\n",
    "\n",
    "if p_value < 0.05:\n",
    "    print(\"Reject null hypothesis. Statistically significant difference in CTR between variants.\")\n",
    "else:\n",
    "    print(\"Fail to reject null hypothesis. No statistically significant difference in CTR.\")\n"
   ]
  }
 ],
 "metadata": {
  "kernelspec": {
   "display_name": "Python 3",
   "language": "python",
   "name": "python3"
  },
  "language_info": {
   "codemirror_mode": {
    "name": "ipython",
    "version": 3
   },
   "file_extension": ".py",
   "mimetype": "text/x-python",
   "name": "python",
   "nbconvert_exporter": "python",
   "pygments_lexer": "ipython3",
   "version": "3.12.0"
  }
 },
 "nbformat": 4,
 "nbformat_minor": 2
}
